{
  "nbformat": 4,
  "nbformat_minor": 0,
  "metadata": {
    "colab": {
      "name": "Genetic_Alg.ipynb",
      "provenance": []
    },
    "kernelspec": {
      "name": "python3",
      "display_name": "Python 3"
    },
    "language_info": {
      "name": "python"
    }
  },
  "cells": [
    {
      "cell_type": "code",
      "metadata": {
        "id": "xrOyLCshEQWU"
      },
      "source": [
        "import pandas as pd\n",
        "import numpy as np\n",
        "from copy import copy\n",
        "import datetime\n",
        "import pickle\n",
        "from geopy.geocoders import Nominatim"
      ],
      "execution_count": 17,
      "outputs": []
    },
    {
      "cell_type": "code",
      "metadata": {
        "id": "AVkMRmDOES9H"
      },
      "source": [
        "filename = \"LightGBM_model.sav\""
      ],
      "execution_count": 26,
      "outputs": []
    },
    {
      "cell_type": "code",
      "metadata": {
        "id": "k-2QG8bSEXrN"
      },
      "source": [
        "loaded_model = pickle.load(open(filename, 'rb'))"
      ],
      "execution_count": 27,
      "outputs": []
    },
    {
      "cell_type": "code",
      "metadata": {
        "id": "PUJ2Vo__LLiD"
      },
      "source": [
        "#Sample date\n",
        "\n",
        "date_list = [4, 6, 2016] \n",
        "#April 6, 2016\n",
        "\n",
        "year = int(date_list[2])\n",
        "month = int(date_list[1])\n",
        "day = int(date_list[0])\n",
        "\n",
        "my_date = datetime.date(year, month, day)"
      ],
      "execution_count": 18,
      "outputs": []
    },
    {
      "cell_type": "code",
      "metadata": {
        "id": "U8cs49xZLO8M"
      },
      "source": [
        "#Sample test locations\n",
        "\n",
        "test_locations = {'L1': (40.819688, -73.915091),\n",
        "                  'L2': (40.815421, -73.941761),\n",
        "                  'L3': (40.764198, -73.910785),\n",
        "                  'L4': (40.768790, -73.953285),\n",
        "                  'L5': (40.734851, -73.952950),\n",
        "                  'L6': (40.743613, -73.977998),\n",
        "                  'L7': (40.745313, -73.993793),\n",
        "                  'L8': (40.662713, -73.946101),\n",
        "                  'L9': (40.703761, -73.886496),\n",
        "                  'L10': (40.713620, -73.943076),\n",
        "                  'L11': (40.725212, -73.809179)\n",
        "             }"
      ],
      "execution_count": 19,
      "outputs": []
    },
    {
      "cell_type": "code",
      "metadata": {
        "colab": {
          "base_uri": "https://localhost:8080/"
        },
        "id": "LCVUqFD4LRtP",
        "outputId": "1eeadb96-6799-4e71-f272-79fe2d55b0a4"
      },
      "source": [
        "geolocator = Nominatim()\n",
        "addresses = []\n",
        "\n",
        "for key in test_locations:\n",
        "    location = geolocator.reverse(test_locations[key])\n",
        "    addresses.append(location.address)"
      ],
      "execution_count": 20,
      "outputs": [
        {
          "output_type": "stream",
          "name": "stderr",
          "text": [
            "/usr/local/lib/python3.7/dist-packages/geopy/geocoders/osm.py:143: UserWarning: Using Nominatim with the default \"geopy/1.17.0\" `user_agent` is strongly discouraged, as it violates Nominatim's ToS https://operations.osmfoundation.org/policies/nominatim/ and may possibly cause 403 and 429 HTTP errors. Please specify a custom `user_agent` with `Nominatim(user_agent=\"my-application\")` or by overriding the default `user_agent`: `geopy.geocoders.options.default_user_agent = \"my-application\"`. In geopy 2.0 this will become an exception.\n",
            "  UserWarning\n"
          ]
        }
      ]
    },
    {
      "cell_type": "code",
      "metadata": {
        "colab": {
          "base_uri": "https://localhost:8080/"
        },
        "id": "ksK0IL0TLYFy",
        "outputId": "a8a6cfa9-ea4e-421d-de85-34b04eb538f9"
      },
      "source": [
        "addresses"
      ],
      "execution_count": 21,
      "outputs": [
        {
          "output_type": "execute_result",
          "data": {
            "text/plain": [
              "['424, East 155th Street, Melrose, The Bronx, Bronx County, New York, 10455, United States',\n",
              " '137, West 136th Street, Harlem, Manhattan, New York County, New York, 10030, United States',\n",
              " 'Citi Bike - 28 Av / 44 St, 28th Avenue, Queens, Queens County, New York, 11377, United States',\n",
              " '435, East 74th Street, Lenox Hill, Manhattan, New York County, New York, 10021, United States',\n",
              " '211, Freeman Street, Brooklyn, Kings County, New York, 11222, United States',\n",
              " '232, East 32nd Street, Kips Bay, Manhattan Community Board 6, Manhattan, New York County, New York, 10016, United States',\n",
              " '159, West 25th Street, Chelsea, Manhattan, New York County, New York, 10001, United States',\n",
              " '458, Lefferts Avenue, Crown Heights, Brooklyn, Kings County, New York, 11225, United States',\n",
              " '70-38, 67th Place, Glendale, Queens, Queens County, New York, 11385, United States',\n",
              " '194, Devoe Street, Williamsburg, Brooklyn, Kings County, New York, 11211, United States',\n",
              " '158-46, 76th Avenue, Utopia, Queens, Queens County, New York, 11366, United States']"
            ]
          },
          "metadata": {},
          "execution_count": 21
        }
      ]
    },
    {
      "cell_type": "code",
      "metadata": {
        "id": "AfdLunEkLa7f"
      },
      "source": [
        "test_addresses = {'L1': '424 East 155th Street NY',\n",
        "                  'L2': '137 West 136th Street NY',\n",
        "                  'L3': '43-11 28th Avenue NY',\n",
        "                  'L4': '435 East 74th Street NY',\n",
        "                  'L5': '211 Freeman Street NY',\n",
        "                  'L6': '232 East 32nd Street NY',\n",
        "                  'L7': '159 West 25th Street NY',\n",
        "                  'L8': '486 Brooklyn Avenue NY',\n",
        "                  'L9': '70-38 67th Place NY',\n",
        "                  'L10': '194 Devoe Street NY',\n",
        "                  'L11': '158-46 76th Avenue NY'\n",
        "             }"
      ],
      "execution_count": 22,
      "outputs": []
    },
    {
      "cell_type": "markdown",
      "metadata": {
        "id": "E_yEkgAXPQak"
      },
      "source": [
        "####  List of Point IDs\n",
        "Creating a random path between all points and then return to the original."
      ]
    },
    {
      "cell_type": "code",
      "metadata": {
        "colab": {
          "base_uri": "https://localhost:8080/"
        },
        "id": "02dBUTLTLe1d",
        "outputId": "43afbe2a-3daf-4951-eb69-d04191442990"
      },
      "source": [
        "def create_guess(points):\n",
        "    guess = copy(points)\n",
        "    np.random.shuffle(guess)\n",
        "    guess.append(guess[0])\n",
        "    return list(guess)\n",
        "\n",
        "create_guess(list(test_locations.keys()))"
      ],
      "execution_count": 23,
      "outputs": [
        {
          "output_type": "execute_result",
          "data": {
            "text/plain": [
              "['L1', 'L6', 'L3', 'L8', 'L4', 'L10', 'L9', 'L5', 'L7', 'L2', 'L11', 'L1']"
            ]
          },
          "metadata": {},
          "execution_count": 23
        }
      ]
    },
    {
      "cell_type": "markdown",
      "metadata": {
        "id": "JD6WQPyzPoQy"
      },
      "source": [
        "####  List of lists of all routes.\n",
        "Makes a list of guessed point orders given a list of point IDs."
      ]
    },
    {
      "cell_type": "code",
      "metadata": {
        "colab": {
          "base_uri": "https://localhost:8080/"
        },
        "id": "eHYGFKpKLpw6",
        "outputId": "f91ccdca-8fee-4f8d-9307-9ecd4c364ddc"
      },
      "source": [
        "def create_generation(points, population=100):\n",
        "    generation = [create_guess(points) for _ in range(population)]\n",
        "    return generation\n",
        "\n",
        "test_generation = create_generation(list(test_locations.keys()), population=10)\n",
        "print(test_generation)"
      ],
      "execution_count": 24,
      "outputs": [
        {
          "output_type": "stream",
          "name": "stdout",
          "text": [
            "[['L1', 'L7', 'L5', 'L11', 'L9', 'L6', 'L2', 'L3', 'L4', 'L10', 'L8', 'L1'], ['L9', 'L2', 'L3', 'L6', 'L5', 'L4', 'L10', 'L11', 'L1', 'L8', 'L7', 'L9'], ['L10', 'L1', 'L4', 'L2', 'L5', 'L9', 'L8', 'L7', 'L3', 'L11', 'L6', 'L10'], ['L7', 'L9', 'L2', 'L6', 'L4', 'L1', 'L3', 'L10', 'L5', 'L11', 'L8', 'L7'], ['L5', 'L2', 'L4', 'L10', 'L11', 'L7', 'L6', 'L9', 'L3', 'L1', 'L8', 'L5'], ['L1', 'L2', 'L10', 'L4', 'L3', 'L9', 'L5', 'L8', 'L11', 'L6', 'L7', 'L1'], ['L5', 'L7', 'L8', 'L9', 'L1', 'L10', 'L6', 'L3', 'L4', 'L11', 'L2', 'L5'], ['L11', 'L10', 'L5', 'L8', 'L6', 'L3', 'L1', 'L7', 'L4', 'L9', 'L2', 'L11'], ['L5', 'L2', 'L10', 'L3', 'L1', 'L11', 'L7', 'L8', 'L6', 'L9', 'L4', 'L5'], ['L11', 'L5', 'L2', 'L9', 'L3', 'L8', 'L1', 'L10', 'L7', 'L6', 'L4', 'L11']]\n"
          ]
        }
      ]
    },
    {
      "cell_type": "markdown",
      "metadata": {
        "id": "XU4T-p4qQFpP"
      },
      "source": [
        "#### Calculate Distance\n",
        "Given two points, this calculates travel between them based on a LightGBM predictive model"
      ]
    },
    {
      "cell_type": "code",
      "metadata": {
        "colab": {
          "base_uri": "https://localhost:8080/"
        },
        "id": "T9dFCxk8Qakj",
        "outputId": "054a270d-aca3-4d29-80fe-dadb1f69a1aa"
      },
      "source": [
        "!pip install geopy\n",
        "from geopy.distance import geodesic\n",
        "def get_distance(source_lat, source_long, dest_lat, dest_long):\n",
        "    #distance in Miles between the source and the destination.\n",
        "    \n",
        "    distance = geodesic((source_lat, source_long),(dest_lat, dest_long)).miles\n",
        "    return distance"
      ],
      "execution_count": 25,
      "outputs": [
        {
          "output_type": "stream",
          "name": "stdout",
          "text": [
            "Requirement already satisfied: geopy in /usr/local/lib/python3.7/dist-packages (1.17.0)\n",
            "Requirement already satisfied: geographiclib<2,>=1.49 in /usr/local/lib/python3.7/dist-packages (from geopy) (1.52)\n"
          ]
        }
      ]
    },
    {
      "cell_type": "code",
      "metadata": {
        "id": "raL6TrchLq4s"
      },
      "source": [
        "def travel_time_between_points(point1_id, point2_id, hour, date, passenger_count = 1, \n",
        "                               store_and_fwd_flag = 0, pickup_minute = 0):\n",
        "\n",
        "    \n",
        "    model_data = {'passenger_count': passenger_count,\n",
        "                  'pickup_longitude' : point1_id[1],\n",
        "                  'pickup_latitude' : point1_id[0],\n",
        "                  'dropoff_longitude' : point2_id[1],\n",
        "                  'dropoff_latitude' : point2_id[0],\n",
        "                  'store_and_fwd_flag' : store_and_fwd_flag,\n",
        "                  'pickup_month' : my_date.month,\n",
        "                  'pickup_day' : my_date.day,\n",
        "                  'pickup_weekday' : my_date.weekday(),\n",
        "                  'pickup_hour': hour,\n",
        "                  'pickup_minute' : pickup_minute,\n",
        "                  'latitude_difference' : point2_id[0] - point1_id[0],\n",
        "                  'longitude_difference' : point2_id[1] - point1_id[1],\n",
        "                  'trip_distance' : get_distance(point1_id[0], point1_id[1], point2_id[0], point2_id[1])\n",
        "                 }\n",
        "\n",
        "    df = pd.DataFrame([model_data], columns=model_data.keys())\n",
        "  \n",
        "    pred = np.exp(loaded_model.predict(df)) - 1\n",
        "    \n",
        "    return pred[0]"
      ],
      "execution_count": 31,
      "outputs": []
    },
    {
      "cell_type": "code",
      "metadata": {
        "id": "oFFisxVJLxWs"
      },
      "source": [
        "coordinates = test_locations"
      ],
      "execution_count": 32,
      "outputs": []
    },
    {
      "cell_type": "markdown",
      "metadata": {
        "id": "riPpc_gISUVp"
      },
      "source": [
        "Find the best Loop"
      ]
    },
    {
      "cell_type": "code",
      "metadata": {
        "id": "8fWfMtKILzlR",
        "colab": {
          "base_uri": "https://localhost:8080/"
        },
        "outputId": "31703d52-8f10-4e3f-dfcf-0eb10285dfc5"
      },
      "source": [
        "def fitness_score(guess):\n",
        "    score = 0\n",
        "    for ix, point_id in enumerate(guess[:-1]):\n",
        "        score += travel_time_between_points(coordinates[point_id], coordinates[guess[ix+1]], 11, my_date)\n",
        "    return score\n",
        "\n",
        "def check_fitness(guesses):\n",
        "    fitness_indicator = []\n",
        "    for guess in guesses:\n",
        "        fitness_indicator.append((guess, fitness_score(guess)))\n",
        "    return fitness_indicator\n",
        "\n",
        "print(check_fitness(test_generation))"
      ],
      "execution_count": 33,
      "outputs": [
        {
          "output_type": "stream",
          "name": "stdout",
          "text": [
            "[(['L1', 'L7', 'L5', 'L11', 'L9', 'L6', 'L2', 'L3', 'L4', 'L10', 'L8', 'L1'], 284.5996831378794), (['L9', 'L2', 'L3', 'L6', 'L5', 'L4', 'L10', 'L11', 'L1', 'L8', 'L7', 'L9'], 323.35937428432413), (['L10', 'L1', 'L4', 'L2', 'L5', 'L9', 'L8', 'L7', 'L3', 'L11', 'L6', 'L10'], 303.14130773910875), (['L7', 'L9', 'L2', 'L6', 'L4', 'L1', 'L3', 'L10', 'L5', 'L11', 'L8', 'L7'], 289.21570384022294), (['L5', 'L2', 'L4', 'L10', 'L11', 'L7', 'L6', 'L9', 'L3', 'L1', 'L8', 'L5'], 300.35247961173366), (['L1', 'L2', 'L10', 'L4', 'L3', 'L9', 'L5', 'L8', 'L11', 'L6', 'L7', 'L1'], 286.5823489772623), (['L5', 'L7', 'L8', 'L9', 'L1', 'L10', 'L6', 'L3', 'L4', 'L11', 'L2', 'L5'], 313.05937390012906), (['L11', 'L10', 'L5', 'L8', 'L6', 'L3', 'L1', 'L7', 'L4', 'L9', 'L2', 'L11'], 302.16587647828084), (['L5', 'L2', 'L10', 'L3', 'L1', 'L11', 'L7', 'L8', 'L6', 'L9', 'L4', 'L5'], 331.41744476261374), (['L11', 'L5', 'L2', 'L9', 'L3', 'L8', 'L1', 'L10', 'L7', 'L6', 'L4', 'L11'], 317.473286329136)]\n"
          ]
        }
      ]
    }
  ]
}