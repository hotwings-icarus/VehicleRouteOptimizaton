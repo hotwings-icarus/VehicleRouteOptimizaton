{
 "cells": [
  {
   "cell_type": "code",
   "execution_count": 39,
   "metadata": {
    "_cell_guid": "b1076dfc-b9ad-4769-8c92-a6c4dae69d19",
    "_uuid": "8f2839f25d086af736a60e9eeb907d3b93b6e0e5",
    "execution": {
     "iopub.execute_input": "2021-11-25T17:59:39.060661Z",
     "iopub.status.busy": "2021-11-25T17:59:39.060388Z",
     "iopub.status.idle": "2021-11-25T17:59:39.073648Z",
     "shell.execute_reply": "2021-11-25T17:59:39.072581Z",
     "shell.execute_reply.started": "2021-11-25T17:59:39.060633Z"
    }
   },
   "outputs": [],
   "source": [
    "import numpy as np \n",
    "import pandas as pd \n",
    "import zipfile\n",
    "\n",
    "import os"
   ]
  },
  {
   "cell_type": "code",
   "execution_count": 40,
   "metadata": {
    "execution": {
     "iopub.execute_input": "2021-11-25T17:59:39.093329Z",
     "iopub.status.busy": "2021-11-25T17:59:39.092751Z",
     "iopub.status.idle": "2021-11-25T17:59:44.639402Z",
     "shell.execute_reply": "2021-11-25T17:59:44.638416Z",
     "shell.execute_reply.started": "2021-11-25T17:59:39.093286Z"
    }
   },
   "outputs": [],
   "source": [
    "train = pd.read_csv('train.csv')\n",
    "train.head()\n"
   ]
  },
  {
   "cell_type": "code",
   "execution_count": 41,
   "metadata": {
    "execution": {
     "iopub.execute_input": "2021-11-25T17:59:44.641336Z",
     "iopub.status.busy": "2021-11-25T17:59:44.641092Z",
     "iopub.status.idle": "2021-11-25T17:59:44.646749Z",
     "shell.execute_reply": "2021-11-25T17:59:44.645949Z",
     "shell.execute_reply.started": "2021-11-25T17:59:44.641309Z"
    }
   },
   "outputs": [],
   "source": [
    "train.shape"
   ]
  },
  {
   "cell_type": "code",
   "execution_count": 42,
   "metadata": {
    "execution": {
     "iopub.execute_input": "2021-11-25T17:59:44.648790Z",
     "iopub.status.busy": "2021-11-25T17:59:44.648118Z",
     "iopub.status.idle": "2021-11-25T17:59:44.953786Z",
     "shell.execute_reply": "2021-11-25T17:59:44.952925Z",
     "shell.execute_reply.started": "2021-11-25T17:59:44.648748Z"
    }
   },
   "outputs": [],
   "source": [
    "train.info()"
   ]
  },
  {
   "cell_type": "markdown",
   "metadata": {},
   "source": [
    "pickup_datetime and dropoff_datetime have to be converted from the type object to datetime. The store_and_fwd_flag column is a categorical column. We'll convert it to numeric value. "
   ]
  },
  {
   "cell_type": "markdown",
   "metadata": {},
   "source": [
    "## Data Preprocessing\n",
    "Converting categorical feature to numeric"
   ]
  },
  {
   "cell_type": "code",
   "execution_count": 43,
   "metadata": {
    "execution": {
     "iopub.execute_input": "2021-11-25T17:59:44.956670Z",
     "iopub.status.busy": "2021-11-25T17:59:44.956356Z",
     "iopub.status.idle": "2021-11-25T17:59:45.022989Z",
     "shell.execute_reply": "2021-11-25T17:59:45.022108Z",
     "shell.execute_reply.started": "2021-11-25T17:59:44.956629Z"
    }
   },
   "outputs": [],
   "source": [
    "train[\"store_and_fwd_flag\"].value_counts()"
   ]
  },
  {
   "cell_type": "code",
   "execution_count": 44,
   "metadata": {
    "execution": {
     "iopub.execute_input": "2021-11-25T17:59:45.024912Z",
     "iopub.status.busy": "2021-11-25T17:59:45.024589Z",
     "iopub.status.idle": "2021-11-25T17:59:45.651181Z",
     "shell.execute_reply": "2021-11-25T17:59:45.650198Z",
     "shell.execute_reply.started": "2021-11-25T17:59:45.024869Z"
    }
   },
   "outputs": [],
   "source": [
    "f = lambda x: 0 if x =='N' else 1\n",
    "train['store_and_fwd_flag'] = train['store_and_fwd_flag'].apply(lambda x: f(x))\n",
    "train.head()"
   ]
  },
  {
   "cell_type": "markdown",
   "metadata": {},
   "source": [
    "Converting object type to datetime."
   ]
  },
  {
   "cell_type": "code",
   "execution_count": 45,
   "metadata": {
    "execution": {
     "iopub.execute_input": "2021-11-25T17:59:45.652706Z",
     "iopub.status.busy": "2021-11-25T17:59:45.652454Z",
     "iopub.status.idle": "2021-11-25T17:59:46.288201Z",
     "shell.execute_reply": "2021-11-25T17:59:46.287176Z",
     "shell.execute_reply.started": "2021-11-25T17:59:45.652674Z"
    }
   },
   "outputs": [],
   "source": [
    "train[\"dropoff_datetime\"] = pd.to_datetime(train[\"dropoff_datetime\"], format='%Y-%m-%d %H:%M:%S')\n",
    "train[\"pickup_datetime\"] = pd.to_datetime(train[\"pickup_datetime\"], format='%Y-%m-%d %H:%M:%S')"
   ]
  },
  {
   "cell_type": "code",
   "execution_count": 46,
   "metadata": {
    "execution": {
     "iopub.execute_input": "2021-11-25T17:59:46.289621Z",
     "iopub.status.busy": "2021-11-25T17:59:46.289397Z",
     "iopub.status.idle": "2021-11-25T17:59:46.395159Z",
     "shell.execute_reply": "2021-11-25T17:59:46.394532Z",
     "shell.execute_reply.started": "2021-11-25T17:59:46.289596Z"
    }
   },
   "outputs": [],
   "source": [
    "train.info()"
   ]
  },
  {
   "cell_type": "markdown",
   "metadata": {},
   "source": [
    "## Feature Engineering\n",
    "Creating feature like month, date, hour and minutes from the pickup_datetime feature."
   ]
  },
  {
   "cell_type": "code",
   "execution_count": 47,
   "metadata": {
    "execution": {
     "iopub.execute_input": "2021-11-25T17:59:46.396570Z",
     "iopub.status.busy": "2021-11-25T17:59:46.396229Z",
     "iopub.status.idle": "2021-11-25T17:59:47.198630Z",
     "shell.execute_reply": "2021-11-25T17:59:47.197586Z",
     "shell.execute_reply.started": "2021-11-25T17:59:46.396543Z"
    }
   },
   "outputs": [],
   "source": [
    "train[\"pickup_month\"] = train[\"pickup_datetime\"].dt.month\n",
    "train[\"pickup_day\"] = train[\"pickup_datetime\"].dt.day\n",
    "train[\"pickup_weekday\"] = train[\"pickup_datetime\"].dt.weekday\n",
    "train[\"pickup_hour\"] = train[\"pickup_datetime\"].dt.hour\n",
    "train[\"pickup_minute\"] = train[\"pickup_datetime\"].dt.minute"
   ]
  },
  {
   "cell_type": "markdown",
   "metadata": {},
   "source": [
    "Calculating the latidutanal and longitudanal differences between the pickup and dropoff locations and then calculating the shortest path between each pairs of points. \n",
    "The latidutanal and longitudanal differences gives a sense of direction as well."
   ]
  },
  {
   "cell_type": "code",
   "execution_count": 48,
   "metadata": {
    "execution": {
     "iopub.execute_input": "2021-11-25T17:59:47.200322Z",
     "iopub.status.busy": "2021-11-25T17:59:47.200040Z",
     "iopub.status.idle": "2021-11-25T17:59:47.219999Z",
     "shell.execute_reply": "2021-11-25T17:59:47.219008Z",
     "shell.execute_reply.started": "2021-11-25T17:59:47.200288Z"
    }
   },
   "outputs": [],
   "source": [
    "train[\"latitude_difference\"] = train[\"dropoff_latitude\"] - train[\"pickup_latitude\"]\n",
    "train[\"longitude_difference\"] = train[\"dropoff_longitude\"] - train[\"pickup_longitude\"]"
   ]
  },
  {
   "cell_type": "code",
   "execution_count": 49,
   "metadata": {
    "execution": {
     "iopub.execute_input": "2021-11-25T17:59:47.223093Z",
     "iopub.status.busy": "2021-11-25T17:59:47.222327Z",
     "iopub.status.idle": "2021-11-25T17:59:47.226713Z",
     "shell.execute_reply": "2021-11-25T17:59:47.226191Z",
     "shell.execute_reply.started": "2021-11-25T17:59:47.223056Z"
    }
   },
   "outputs": [],
   "source": [
    "from geopy.distance import geodesic\n",
    "def get_distance(source_lat, source_long, dest_lat, dest_long):\n",
    "    #distance in Miles between the source and the destination.\n",
    "    \n",
    "    distance = geodesic((source_lat, source_long),(dest_lat, dest_long)).miles\n",
    "    return distance\n"
   ]
  },
  {
   "cell_type": "code",
   "execution_count": 50,
   "metadata": {
    "execution": {
     "iopub.execute_input": "2021-11-25T17:59:47.228455Z",
     "iopub.status.busy": "2021-11-25T17:59:47.227806Z",
     "iopub.status.idle": "2021-11-25T18:05:54.441358Z",
     "shell.execute_reply": "2021-11-25T18:05:54.440371Z",
     "shell.execute_reply.started": "2021-11-25T17:59:47.228424Z"
    }
   },
   "outputs": [],
   "source": [
    "train['distance'] = train.apply(lambda x: get_distance(x.pickup_latitude, x.pickup_longitude,x.dropoff_latitude, x.dropoff_longitude), axis=1)\n",
    "train.head()"
   ]
  },
  {
   "cell_type": "markdown",
   "metadata": {},
   "source": [
    "## Anomaly Detection"
   ]
  },
  {
   "cell_type": "code",
   "execution_count": 51,
   "metadata": {
    "execution": {
     "iopub.execute_input": "2021-11-25T18:05:54.443582Z",
     "iopub.status.busy": "2021-11-25T18:05:54.442886Z",
     "iopub.status.idle": "2021-11-25T18:05:59.701268Z",
     "shell.execute_reply": "2021-11-25T18:05:59.700445Z",
     "shell.execute_reply.started": "2021-11-25T18:05:54.443545Z"
    }
   },
   "outputs": [],
   "source": [
    "import seaborn as sns\n",
    "sns.scatterplot(data=train, x=\"distance\", y=\"trip_duration\")"
   ]
  },
  {
   "cell_type": "code",
   "execution_count": 52,
   "metadata": {
    "execution": {
     "iopub.execute_input": "2021-11-25T18:05:59.704733Z",
     "iopub.status.busy": "2021-11-25T18:05:59.704489Z",
     "iopub.status.idle": "2021-11-25T18:07:30.863575Z",
     "shell.execute_reply": "2021-11-25T18:07:30.862745Z",
     "shell.execute_reply.started": "2021-11-25T18:05:59.704706Z"
    }
   },
   "outputs": [],
   "source": [
    "from sklearn.ensemble import IsolationForest\n",
    "clf = IsolationForest(random_state = 42, contamination = 0.01)\n",
    "train['Anomaly'] = clf.fit_predict(train[['distance', 'trip_duration']])\n",
    "train.Anomaly.value_counts()"
   ]
  },
  {
   "cell_type": "code",
   "execution_count": 53,
   "metadata": {
    "execution": {
     "iopub.execute_input": "2021-11-25T18:07:30.865010Z",
     "iopub.status.busy": "2021-11-25T18:07:30.864802Z",
     "iopub.status.idle": "2021-11-25T18:07:33.930769Z",
     "shell.execute_reply": "2021-11-25T18:07:33.930091Z",
     "shell.execute_reply.started": "2021-11-25T18:07:30.864985Z"
    }
   },
   "outputs": [],
   "source": [
    "import matplotlib.pyplot as plt\n",
    "plt.title(\"Outlier vs. Normal Trips\")\n",
    "plt.rcParams['figure.figsize'] = [15, 7]\n",
    "\n",
    "plt.scatter(train.loc[train.Anomaly == -1, ['distance']], \n",
    "                 train.loc[train.Anomaly == -1, ['trip_duration']], c='red')\n",
    "plt.scatter(train.loc[train.Anomaly == 1, ['distance']], \n",
    "                 train.loc[train.Anomaly == 1, ['trip_duration']], c='green')\n",
    "plt.show()"
   ]
  },
  {
   "cell_type": "code",
   "execution_count": 54,
   "metadata": {
    "execution": {
     "iopub.execute_input": "2021-11-25T18:07:33.933046Z",
     "iopub.status.busy": "2021-11-25T18:07:33.932085Z",
     "iopub.status.idle": "2021-11-25T18:07:34.160638Z",
     "shell.execute_reply": "2021-11-25T18:07:34.159653Z",
     "shell.execute_reply.started": "2021-11-25T18:07:33.932982Z"
    }
   },
   "outputs": [],
   "source": [
    "train = train.loc[train['Anomaly'] == 1].copy()"
   ]
  },
  {
   "cell_type": "markdown",
   "metadata": {},
   "source": [
    "## Including New York weather data in prediction"
   ]
  },
  {
   "cell_type": "code",
   "execution_count": 55,
   "metadata": {
    "execution": {
     "iopub.execute_input": "2021-11-25T18:07:34.162803Z",
     "iopub.status.busy": "2021-11-25T18:07:34.162335Z",
     "iopub.status.idle": "2021-11-25T18:07:34.202320Z",
     "shell.execute_reply": "2021-11-25T18:07:34.201408Z",
     "shell.execute_reply.started": "2021-11-25T18:07:34.162759Z"
    }
   },
   "outputs": [],
   "source": [
    "weather_df = pd.read_csv('../input/knycmetars2016/KNYC_Metars.csv')\n",
    "weather_df.head()"
   ]
  },
  {
   "cell_type": "code",
   "execution_count": 56,
   "metadata": {
    "execution": {
     "iopub.execute_input": "2021-11-25T18:07:34.204198Z",
     "iopub.status.busy": "2021-11-25T18:07:34.203694Z",
     "iopub.status.idle": "2021-11-25T18:07:34.218772Z",
     "shell.execute_reply": "2021-11-25T18:07:34.217662Z",
     "shell.execute_reply.started": "2021-11-25T18:07:34.204136Z"
    }
   },
   "outputs": [],
   "source": [
    "weather_df[\"Time\"] = pd.to_datetime(weather_df[\"Time\"])\n",
    "weather_df[\"pickup_year\"] = weather_df[\"Time\"].dt.year\n",
    "weather_df[\"pickup_month\"] = weather_df[\"Time\"].dt.month\n",
    "weather_df[\"pickup_day\"] = weather_df[\"Time\"].dt.day\n",
    "weather_df[\"pickup_hour\"] = weather_df[\"Time\"].dt.hour"
   ]
  },
  {
   "cell_type": "code",
   "execution_count": 57,
   "metadata": {
    "execution": {
     "iopub.execute_input": "2021-11-25T18:07:34.221145Z",
     "iopub.status.busy": "2021-11-25T18:07:34.220482Z",
     "iopub.status.idle": "2021-11-25T18:07:34.229761Z",
     "shell.execute_reply": "2021-11-25T18:07:34.228883Z",
     "shell.execute_reply.started": "2021-11-25T18:07:34.221095Z"
    }
   },
   "outputs": [],
   "source": [
    "weather_df = weather_df[weather_df[\"pickup_year\"] == 2016]"
   ]
  },
  {
   "cell_type": "code",
   "execution_count": 58,
   "metadata": {
    "execution": {
     "iopub.execute_input": "2021-11-25T18:07:34.232669Z",
     "iopub.status.busy": "2021-11-25T18:07:34.231947Z",
     "iopub.status.idle": "2021-11-25T18:07:34.261819Z",
     "shell.execute_reply": "2021-11-25T18:07:34.261237Z",
     "shell.execute_reply.started": "2021-11-25T18:07:34.232629Z"
    }
   },
   "outputs": [],
   "source": [
    "weather_df.head()"
   ]
  },
  {
   "cell_type": "markdown",
   "metadata": {},
   "source": [
    "Merging the weather dataframe with the train dataframe "
   ]
  },
  {
   "cell_type": "code",
   "execution_count": 59,
   "metadata": {
    "execution": {
     "iopub.execute_input": "2021-11-25T18:07:34.263218Z",
     "iopub.status.busy": "2021-11-25T18:07:34.262871Z",
     "iopub.status.idle": "2021-11-25T18:07:35.249179Z",
     "shell.execute_reply": "2021-11-25T18:07:35.248504Z",
     "shell.execute_reply.started": "2021-11-25T18:07:34.263185Z"
    }
   },
   "outputs": [],
   "source": [
    "final_df = train.copy()\n",
    "final_df= pd.merge(final_df, weather_df[[\"Temp.\", \"pickup_month\", \"pickup_day\", \"pickup_hour\", \"Windchill\", \"Humidity\", \"Pressure\", \"Dew Point\", \"Visibility\", \"Wind Dir\", \n",
    "                                            \"Wind Speed\", \"Gust Speed\", \"Precip\", \"Conditions\"]], how = \"left\", on = [\"pickup_month\", \"pickup_day\", \"pickup_hour\"])"
   ]
  },
  {
   "cell_type": "code",
   "execution_count": 60,
   "metadata": {
    "execution": {
     "iopub.execute_input": "2021-11-25T18:07:35.250584Z",
     "iopub.status.busy": "2021-11-25T18:07:35.250244Z",
     "iopub.status.idle": "2021-11-25T18:07:35.276679Z",
     "shell.execute_reply": "2021-11-25T18:07:35.275872Z",
     "shell.execute_reply.started": "2021-11-25T18:07:35.250555Z"
    }
   },
   "outputs": [],
   "source": [
    "final_df.head()"
   ]
  },
  {
   "cell_type": "markdown",
   "metadata": {},
   "source": [
    "Preprocessing the categorical feature of Conditions"
   ]
  },
  {
   "cell_type": "code",
   "execution_count": 61,
   "metadata": {
    "execution": {
     "iopub.execute_input": "2021-11-25T18:07:35.278207Z",
     "iopub.status.busy": "2021-11-25T18:07:35.277714Z",
     "iopub.status.idle": "2021-11-25T18:07:35.340912Z",
     "shell.execute_reply": "2021-11-25T18:07:35.339867Z",
     "shell.execute_reply.started": "2021-11-25T18:07:35.278166Z"
    }
   },
   "outputs": [],
   "source": [
    "final_df[\"Conditions\"].unique()"
   ]
  },
  {
   "cell_type": "markdown",
   "metadata": {},
   "source": [
    "Most of these weather conditions are really similar and it does not make sense to encode them separately. We'll group them together into 4 weather categories. The same reasons apply grouping the wind directions into 10 categories. "
   ]
  },
  {
   "cell_type": "code",
   "execution_count": 62,
   "metadata": {
    "execution": {
     "iopub.execute_input": "2021-11-25T18:07:35.343018Z",
     "iopub.status.busy": "2021-11-25T18:07:35.342525Z",
     "iopub.status.idle": "2021-11-25T18:07:35.433859Z",
     "shell.execute_reply": "2021-11-25T18:07:35.433208Z",
     "shell.execute_reply.started": "2021-11-25T18:07:35.342971Z"
    }
   },
   "outputs": [],
   "source": [
    "final_df[\"Conditions\"] = final_df[\"Conditions\"].fillna('Unknown')"
   ]
  },
  {
   "cell_type": "code",
   "execution_count": 63,
   "metadata": {
    "execution": {
     "iopub.execute_input": "2021-11-25T18:07:35.435840Z",
     "iopub.status.busy": "2021-11-25T18:07:35.435070Z",
     "iopub.status.idle": "2021-11-25T18:07:35.918117Z",
     "shell.execute_reply": "2021-11-25T18:07:35.917418Z",
     "shell.execute_reply.started": "2021-11-25T18:07:35.435796Z"
    }
   },
   "outputs": [],
   "source": [
    "weather_dict = {'Overcast' : 0, \n",
    "                'Haze' : 0,\n",
    "                'Partly Cloudy' : 0, \n",
    "                'Mostly Cloudy' : 0, \n",
    "                'Scattered Clouds' : 0, \n",
    "                'Light Freezing Fog' : 0,\n",
    "                \n",
    "                'Unknown' : 1,\n",
    "                'Clear' : 2, \n",
    "                \n",
    "                'Heavy Rain' : 3, \n",
    "                'Rain' : 3, \n",
    "                'Light Freezing Rain' : 3,\n",
    "                'Light Rain' : 3, \n",
    "                \n",
    "                'Heavy Snow' : 4,\n",
    "                'Light Snow' : 4,\n",
    "                'Snow' : 4}\n",
    "final_df[\"Conditions\"] = final_df[\"Conditions\"].apply(lambda x: weather_dict[x])            "
   ]
  },
  {
   "cell_type": "code",
   "execution_count": 64,
   "metadata": {
    "execution": {
     "iopub.execute_input": "2021-11-25T18:07:35.919864Z",
     "iopub.status.busy": "2021-11-25T18:07:35.919445Z",
     "iopub.status.idle": "2021-11-25T18:07:35.980856Z",
     "shell.execute_reply": "2021-11-25T18:07:35.980141Z",
     "shell.execute_reply.started": "2021-11-25T18:07:35.919835Z"
    }
   },
   "outputs": [],
   "source": [
    "final_df[\"Wind Dir\"].unique()"
   ]
  },
  {
   "cell_type": "code",
   "execution_count": 65,
   "metadata": {
    "execution": {
     "iopub.execute_input": "2021-11-25T18:07:35.982381Z",
     "iopub.status.busy": "2021-11-25T18:07:35.981957Z",
     "iopub.status.idle": "2021-11-25T18:07:36.551283Z",
     "shell.execute_reply": "2021-11-25T18:07:36.550351Z",
     "shell.execute_reply.started": "2021-11-25T18:07:35.982342Z"
    }
   },
   "outputs": [],
   "source": [
    "final_df[\"Wind Dir\"] = final_df[\"Wind Dir\"].fillna('Unknown')\n",
    "\n",
    "wind_dir_dict = {'East' : 0,\n",
    "                 'ENE' : 0, \n",
    "                 'ESE' : 0, \n",
    "                 \n",
    "                 'West' : 1, \n",
    "                 'WSW' : 1,\n",
    "                 'WNW' : 1,\n",
    "                 \n",
    "                 'South' : 2, \n",
    "                 'SSE' : 2,   \n",
    "                 'SSW' : 2,\n",
    "                 \n",
    "                 'North' : 3, \n",
    "                 'NNE' : 3, \n",
    "                 'NNW' : 3,\n",
    "                 \n",
    "                 'Variable' : 4, \n",
    "                 'Calm' : 5, \n",
    "                 'SW' : 6, \n",
    "                 'NW' : 7, \n",
    "                 'NE' : 8, \n",
    "                 'SE' : 9, \n",
    "                 'Unknown' : 10\n",
    "                }\n",
    "final_df[\"Wind Dir\"] = final_df[\"Wind Dir\"].apply(lambda x: wind_dir_dict[x]) "
   ]
  },
  {
   "cell_type": "markdown",
   "metadata": {},
   "source": [
    "## LightGBM Model\n",
    "We'll compare model performance with and without the weather data. We'll use the Root Mean Squared Logaritmic Error as our evaluation metric"
   ]
  },
  {
   "cell_type": "code",
   "execution_count": 67,
   "metadata": {
    "execution": {
     "iopub.execute_input": "2021-11-25T18:15:05.625500Z",
     "iopub.status.busy": "2021-11-25T18:15:05.625193Z",
     "iopub.status.idle": "2021-11-25T18:15:06.716068Z",
     "shell.execute_reply": "2021-11-25T18:15:06.715029Z",
     "shell.execute_reply.started": "2021-11-25T18:15:05.625470Z"
    }
   },
   "outputs": [],
   "source": [
    "X = final_df.drop([\"trip_duration\", \"id\", \"vendor_id\", \"pickup_datetime\", \"dropoff_datetime\"], axis=1)\n",
    "y = final_df[\"trip_duration\"]"
   ]
  },
  {
   "cell_type": "code",
   "execution_count": 69,
   "metadata": {
    "execution": {
     "iopub.execute_input": "2021-11-25T18:15:41.794553Z",
     "iopub.status.busy": "2021-11-25T18:15:41.794001Z",
     "iopub.status.idle": "2021-11-25T18:15:42.924565Z",
     "shell.execute_reply": "2021-11-25T18:15:42.923710Z",
     "shell.execute_reply.started": "2021-11-25T18:15:41.794508Z"
    }
   },
   "outputs": [],
   "source": [
    "#Split the data into training, test, and valdiation sets\n",
    "from sklearn.model_selection import train_test_split\n",
    "X_train, X_test, y_train, y_test = train_test_split(X, y, test_size=0.3, random_state=2018)\n",
    "X_train, X_val, y_train, y_val = train_test_split(X_train, y_train, test_size=0.25, random_state=2019)"
   ]
  },
  {
   "cell_type": "code",
   "execution_count": null,
   "metadata": {},
   "outputs": [],
   "source": [
    "def rmsle(y_true, y_pred):\n",
    "    assert len(y_true) == len(y_pred)\n",
    "    return np.square(np.log(y_pred + 1) - np.log(y_true + 1)).mean() ** 0.5"
   ]
  },
  {
   "cell_type": "code",
   "execution_count": 75,
   "metadata": {
    "execution": {
     "iopub.execute_input": "2021-11-25T18:34:31.255735Z",
     "iopub.status.busy": "2021-11-25T18:34:31.255434Z",
     "iopub.status.idle": "2021-11-25T18:34:31.260189Z",
     "shell.execute_reply": "2021-11-25T18:34:31.259549Z",
     "shell.execute_reply.started": "2021-11-25T18:34:31.255706Z"
    }
   },
   "outputs": [],
   "source": [
    "import lightgbm as lgb\n",
    "params = {\n",
    "    'boosting':'gbdt',\n",
    "    'learning_rate':      0.05,\n",
    "    'max_depth':          14,\n",
    "    'subsample':          0.9,\n",
    "    'colsample_bytree':   0.7,\n",
    "}\n",
    "nrounds = 2000"
   ]
  },
  {
   "cell_type": "code",
   "execution_count": 76,
   "metadata": {
    "execution": {
     "iopub.execute_input": "2021-11-25T18:34:36.448213Z",
     "iopub.status.busy": "2021-11-25T18:34:36.447563Z",
     "iopub.status.idle": "2021-11-25T18:34:36.486556Z",
     "shell.execute_reply": "2021-11-25T18:34:36.485794Z",
     "shell.execute_reply.started": "2021-11-25T18:34:36.448171Z"
    }
   },
   "outputs": [],
   "source": [
    "dtrain = lgb.Dataset(X_train, np.log(y_train+1))\n",
    "dval = lgb.Dataset(X_val, np.log(y_val+1), reference=dtrain)\n",
    "watchlist = [(dtrain, 'train'), (dval, 'eval')]"
   ]
  },
  {
   "cell_type": "code",
   "execution_count": 77,
   "metadata": {
    "execution": {
     "iopub.execute_input": "2021-11-25T18:45:33.342808Z",
     "iopub.status.busy": "2021-11-25T18:45:33.342308Z",
     "iopub.status.idle": "2021-11-25T18:46:40.777340Z",
     "shell.execute_reply": "2021-11-25T18:46:40.776365Z",
     "shell.execute_reply.started": "2021-11-25T18:45:33.342736Z"
    }
   },
   "outputs": [],
   "source": [
    "bst = lgb.train(params,\n",
    "                dtrain,\n",
    "                num_boost_round = nrounds,\n",
    "                valid_sets = [dtrain, dval],\n",
    "                valid_names = ['train', 'valid'],\n",
    "                categorical_feature = [20, 24]\n",
    "                )"
   ]
  },
  {
   "cell_type": "code",
   "execution_count": 78,
   "metadata": {
    "execution": {
     "iopub.execute_input": "2021-11-25T18:46:40.779938Z",
     "iopub.status.busy": "2021-11-25T18:46:40.779411Z",
     "iopub.status.idle": "2021-11-25T18:47:03.237254Z",
     "shell.execute_reply": "2021-11-25T18:47:03.236379Z",
     "shell.execute_reply.started": "2021-11-25T18:46:40.779891Z"
    }
   },
   "outputs": [],
   "source": [
    "pred = np.exp(bst.predict(X_test)) - 1"
   ]
  }
 ],
 "metadata": {
  "kernelspec": {
   "display_name": "Python 3",
   "language": "python",
   "name": "python3"
  },
  "language_info": {
   "codemirror_mode": {
    "name": "ipython",
    "version": 3
   },
   "file_extension": ".py",
   "mimetype": "text/x-python",
   "name": "python",
   "nbconvert_exporter": "python",
   "pygments_lexer": "ipython3",
   "version": "3.8.8"
  }
 },
 "nbformat": 4,
 "nbformat_minor": 4
}
